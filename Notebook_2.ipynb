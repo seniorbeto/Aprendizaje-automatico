{
 "cells": [
  {
   "metadata": {},
   "cell_type": "markdown",
   "source": [
    "# Producción de la energía eólica con datos de competición\n",
    "\n",
    "Se usará el dataset con datos de la competición otorgado para, usando el modelo seleccionado, predecir la producción de energía."
   ],
   "id": "daba930dc12bc98c"
  },
  {
   "metadata": {
    "ExecuteTime": {
     "end_time": "2024-04-06T10:20:23.668533Z",
     "start_time": "2024-04-06T10:20:23.382795Z"
    }
   },
   "cell_type": "code",
   "source": [
    "# Se importará el modelo final \"model.pkl\" y se realizarán las predicciones sobre \n",
    "# el dataset de competición (\"data/wind_comp.csv\")\n",
    "import pandas as pd\n",
    "import numpy as np\n",
    "import pickle\n",
    "\n",
    "# Se carga el modelo\n",
    "with open('model.pkl', 'rb') as file:\n",
    "    model = pickle.load(file)\n",
    "\n",
    "# Se cargan los datos de competición\n",
    "data = pd.read_csv('data/wind_comp.csv')\n",
    "\n",
    "# Se realiza la predicción\n",
    "y_pred = model.predict(data)\n",
    "\n",
    "# Se guardan y exportan las predicciones en un archivo CSV\n",
    "pd.DataFrame(y_pred).to_csv('predictions.csv', index=False, header=False)"
   ],
   "id": "6b52809e93680c25",
   "outputs": [],
   "execution_count": 6
  },
  {
   "metadata": {},
   "cell_type": "code",
   "outputs": [],
   "execution_count": null,
   "source": "",
   "id": "63c2a11e6ee85a81"
  }
 ],
 "metadata": {
  "kernelspec": {
   "display_name": "Python 3",
   "language": "python",
   "name": "python3"
  },
  "language_info": {
   "codemirror_mode": {
    "name": "ipython",
    "version": 2
   },
   "file_extension": ".py",
   "mimetype": "text/x-python",
   "name": "python",
   "nbconvert_exporter": "python",
   "pygments_lexer": "ipython2",
   "version": "2.7.6"
  }
 },
 "nbformat": 4,
 "nbformat_minor": 5
}
